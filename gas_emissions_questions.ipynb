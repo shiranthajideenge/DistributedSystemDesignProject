{
 "cells": [
  {
   "cell_type": "code",
   "execution_count": 1,
   "id": "c1904523",
   "metadata": {},
   "outputs": [],
   "source": [
    "import pandas as pd"
   ]
  },
  {
   "cell_type": "code",
   "execution_count": 5,
   "id": "e6f8143d",
   "metadata": {},
   "outputs": [],
   "source": [
    "data = pd.read_csv('/home/dsd/shared/asset_cropland-fires_emissions.csv')"
   ]
  },
  {
   "cell_type": "code",
   "execution_count": 64,
   "id": "4a529d04",
   "metadata": {},
   "outputs": [
    {
     "data": {
      "text/plain": [
       "Index(['asset_id', 'iso3_country', 'original_inventory_sector', 'start_time',\n",
       "       'end_time', 'temporal_granularity', 'gas', 'emissions_quantity',\n",
       "       'emissions_factor', 'emissions_factor_units', 'capacity',\n",
       "       'capacity_units', 'capacity_factor', 'activity', 'activity_units',\n",
       "       'created_date', 'modified_date', 'asset_name', 'asset_type',\n",
       "       'st_astext'],\n",
       "      dtype='object')"
      ]
     },
     "execution_count": 64,
     "metadata": {},
     "output_type": "execute_result"
    }
   ],
   "source": [
    "data.columns"
   ]
  },
  {
   "cell_type": "code",
   "execution_count": 70,
   "id": "d6ce3ca7",
   "metadata": {},
   "outputs": [
    {
     "data": {
      "text/plain": [
       "array([1.44e+03, 5.70e+00, 1.00e-01])"
      ]
     },
     "execution_count": 70,
     "metadata": {},
     "output_type": "execute_result"
    }
   ],
   "source": [
    "# what are the emission factors values were considered between the period of 2015 and 2018?\n",
    "gas_factors = data[data['start_time'].str.contains('2015|2016|2017|2018')]\n",
    "gas_factors['emissions_factor'].unique()"
   ]
  },
  {
   "cell_type": "code",
   "execution_count": 46,
   "id": "9cd32fed",
   "metadata": {},
   "outputs": [
    {
     "data": {
      "text/html": [
       "<div>\n",
       "<style scoped>\n",
       "    .dataframe tbody tr th:only-of-type {\n",
       "        vertical-align: middle;\n",
       "    }\n",
       "\n",
       "    .dataframe tbody tr th {\n",
       "        vertical-align: top;\n",
       "    }\n",
       "\n",
       "    .dataframe thead th {\n",
       "        text-align: right;\n",
       "    }\n",
       "</style>\n",
       "<table border=\"1\" class=\"dataframe\">\n",
       "  <thead>\n",
       "    <tr style=\"text-align: right;\">\n",
       "      <th></th>\n",
       "      <th>asset_id</th>\n",
       "      <th>emissions_quantity</th>\n",
       "      <th>emissions_factor</th>\n",
       "      <th>emissions_factor_units</th>\n",
       "      <th>capacity</th>\n",
       "      <th>capacity_units</th>\n",
       "      <th>capacity_factor</th>\n",
       "      <th>activity</th>\n",
       "      <th>activity_units</th>\n",
       "      <th>modified_date</th>\n",
       "    </tr>\n",
       "    <tr>\n",
       "      <th>asset_name</th>\n",
       "      <th></th>\n",
       "      <th></th>\n",
       "      <th></th>\n",
       "      <th></th>\n",
       "      <th></th>\n",
       "      <th></th>\n",
       "      <th></th>\n",
       "      <th></th>\n",
       "      <th></th>\n",
       "      <th></th>\n",
       "    </tr>\n",
       "  </thead>\n",
       "  <tbody>\n",
       "    <tr>\n",
       "      <th>India_Punjab_</th>\n",
       "      <td>1.834586e+09</td>\n",
       "      <td>8240.675551</td>\n",
       "      <td>289.2</td>\n",
       "      <td>NaN</td>\n",
       "      <td>673.261414</td>\n",
       "      <td>NaN</td>\n",
       "      <td>2089.0</td>\n",
       "      <td>95.684464</td>\n",
       "      <td>NaN</td>\n",
       "      <td>NaN</td>\n",
       "    </tr>\n",
       "  </tbody>\n",
       "</table>\n",
       "</div>"
      ],
      "text/plain": [
       "                   asset_id  emissions_quantity  emissions_factor  \\\n",
       "asset_name                                                          \n",
       "India_Punjab_  1.834586e+09         8240.675551             289.2   \n",
       "\n",
       "               emissions_factor_units    capacity  capacity_units  \\\n",
       "asset_name                                                          \n",
       "India_Punjab_                     NaN  673.261414             NaN   \n",
       "\n",
       "               capacity_factor   activity  activity_units  modified_date  \n",
       "asset_name                                                                \n",
       "India_Punjab_           2089.0  95.684464             NaN            NaN  "
      ]
     },
     "execution_count": 46,
     "metadata": {},
     "output_type": "execute_result"
    }
   ],
   "source": [
    "# country with the highest average emissions quantity\n",
    "emissions_avg = data.groupby(['asset_name']).mean()\n",
    "emissions_avg[emissions_avg['emissions_quantity']==emissions_avg['emissions_quantity'].max()]"
   ]
  },
  {
   "cell_type": "code",
   "execution_count": 51,
   "id": "d650d02c",
   "metadata": {},
   "outputs": [
    {
     "data": {
      "text/plain": [
       "array(['co2', 'ch4', 'n2o', 'co2e_100yr', 'co2e_20yr'], dtype=object)"
      ]
     },
     "execution_count": 51,
     "metadata": {},
     "output_type": "execute_result"
    }
   ],
   "source": [
    "# What are the types of gases that USA emits?\n",
    "gas_types = data[data['iso3_country'] == 'USA']\n",
    "gas_types['gas'].unique()"
   ]
  },
  {
   "cell_type": "code",
   "execution_count": 58,
   "id": "5d31cf6a",
   "metadata": {},
   "outputs": [
    {
     "data": {
      "text/plain": [
       "424991"
      ]
     },
     "execution_count": 58,
     "metadata": {},
     "output_type": "execute_result"
    }
   ],
   "source": [
    "# how many times was the data modified?\n",
    "data['created_date'].unique().size"
   ]
  },
  {
   "cell_type": "code",
   "execution_count": null,
   "id": "b76993c3",
   "metadata": {},
   "outputs": [],
   "source": []
  }
 ],
 "metadata": {
  "kernelspec": {
   "display_name": "Python 3.10.8 64-bit",
   "language": "python",
   "name": "python3"
  },
  "language_info": {
   "codemirror_mode": {
    "name": "ipython",
    "version": 3
   },
   "file_extension": ".py",
   "mimetype": "text/x-python",
   "name": "python",
   "nbconvert_exporter": "python",
   "pygments_lexer": "ipython3",
   "version": "3.10.8"
  },
  "vscode": {
   "interpreter": {
    "hash": "b0fa6594d8f4cbf19f97940f81e996739fb7646882a419484c72d19e05852a7e"
   }
  }
 },
 "nbformat": 4,
 "nbformat_minor": 5
}
